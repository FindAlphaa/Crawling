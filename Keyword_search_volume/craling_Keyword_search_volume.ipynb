{
 "cells": [
  {
   "cell_type": "code",
   "execution_count": null,
   "metadata": {},
   "outputs": [],
   "source": [
    "# 키워드 검색어 \n",
    "import requests\n",
    "from selenium import webdriver\n",
    "from bs4 import BeautifulSoup, Tag\n",
    "from selenium.webdriver.common.keys import Keys\n",
    "import time\n",
    "from selenium.webdriver.chrome.service import Service\n",
    "from selenium.webdriver.common.by import By\n",
    "from selenium.webdriver.chrome.options import Options\n",
    "from webdriver_manager.chrome import ChromeDriverManager\n",
    "\n",
    "options = Options()\n",
    "user_agent = \"Mozilla/5.0 (Macintosh; Intel Mac OS X 10_15_7) AppleWebKit/537.36 (KHTML, like Gecko) Chrome/114.0.0.0 Safari/537.36\"\n",
    "options.add_experimental_option('excludeSwitches', ['enable-logging']) # Usb Error ignore\n",
    "options.add_argument(\"no-sandbox\") \n",
    "options.add_argument('window-size=1920x1080')\n",
    "options.add_argument('headless')\n",
    "options.add_argument(\"disable-infobars\")\n",
    "options.add_argument(\"--disable-extensions\")\n",
    "options.add_argument('user-agent='+ user_agent)\n",
    "\n",
    "driver = webdriver.Chrome(options = options)\n",
    "\n",
    "cluster_keyword = dict()\n",
    "for i in range(len(filtered_word_list)):\n",
    "    time.sleep(1)\n",
    "    # print(f\"Cluster[{i}][{j}] :\", clustered_words[i][j])\n",
    "    driver.get(f\"http://www.surffing.net/keywordSearch?keyword={filtered_word_list[i]}\")\n",
    "    pc_count_str = driver.find_element(By.CSS_SELECTOR, 'body > table > tbody > tr:nth-child(2) > td:nth-child(2)').text\n",
    "    mobile_count_str = driver.find_element(By.CSS_SELECTOR, 'body > table > tbody > tr:nth-child(2) > td:nth-child(3)').text\n",
    "    # 값이 '0 😅'인 경우 0으로, 문자열로된 숫자는 숫자로 변환\n",
    "    if pc_count_str == '0 😅':\n",
    "        pc_count = 0\n",
    "    else:\n",
    "        pc_count = int(pc_count_str) if pc_count_str.isdigit() else int(''.join(filter(str.isdigit, pc_count_str)))\n",
    "\n",
    "    if mobile_count_str == '0 😂':\n",
    "        mobile_count = 0\n",
    "    else:\n",
    "        mobile_count = int(mobile_count_str) if mobile_count_str.isdigit() else int(''.join(filter(str.isdigit, mobile_count_str)))\n",
    "\n",
    "    total_count = pc_count + mobile_count\n",
    "    print(f\"{filtered_word_list[i]:<20} -> PC 검색량: {pc_count}, 모바일 검색량: {mobile_count}, 총합: {total_count}\")\n",
    "    cluster_keyword[filtered_word_list[i]] = total_count"
   ]
  }
 ],
 "metadata": {
  "language_info": {
   "name": "python"
  },
  "orig_nbformat": 4
 },
 "nbformat": 4,
 "nbformat_minor": 2
}
